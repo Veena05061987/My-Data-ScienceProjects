{
 "cells": [
  {
   "cell_type": "markdown",
   "id": "2ccb3b5c",
   "metadata": {},
   "source": [
    "# CAR CLASSIFICATION \n",
    "\n",
    "This project is based on Supervised Machine Learning"
   ]
  },
  {
   "cell_type": "markdown",
   "id": "47042fe6",
   "metadata": {},
   "source": [
    "# Read Data"
   ]
  },
  {
   "cell_type": "code",
   "execution_count": 1,
   "id": "f15737c4",
   "metadata": {},
   "outputs": [],
   "source": [
    "import pandas as pd\n",
    "A= pd.read_csv(\"C:/Users/Dell/Downloads/Cars93.csv\")"
   ]
  },
  {
   "cell_type": "code",
   "execution_count": 2,
   "id": "20f388e0",
   "metadata": {},
   "outputs": [],
   "source": [
    "A.columns=['id', 'Manufacturer', 'Model', 'Type', 'MinPrice', 'Price',\n",
    "       'MaxPrice', 'MPGcity', 'MPGhighway', 'AirBags', 'DriveTrain',\n",
    "       'Cylinders', 'EngineSize', 'Horsepower', 'RPM', 'Revpermile',\n",
    "       'Mantransavail', 'Fueltankcapacity', 'Passengers', 'Length',\n",
    "       'Wheelbase', 'Width', 'Turncircle', 'Rearseatroom', 'Luggageroom',\n",
    "       'Weight', 'Origin', 'Make']\n"
   ]
  },
  {
   "cell_type": "code",
   "execution_count": 3,
   "id": "1b32fba2",
   "metadata": {},
   "outputs": [
    {
     "data": {
      "text/html": [
       "<div>\n",
       "<style scoped>\n",
       "    .dataframe tbody tr th:only-of-type {\n",
       "        vertical-align: middle;\n",
       "    }\n",
       "\n",
       "    .dataframe tbody tr th {\n",
       "        vertical-align: top;\n",
       "    }\n",
       "\n",
       "    .dataframe thead th {\n",
       "        text-align: right;\n",
       "    }\n",
       "</style>\n",
       "<table border=\"1\" class=\"dataframe\">\n",
       "  <thead>\n",
       "    <tr style=\"text-align: right;\">\n",
       "      <th></th>\n",
       "      <th>id</th>\n",
       "      <th>Manufacturer</th>\n",
       "      <th>Model</th>\n",
       "      <th>Type</th>\n",
       "      <th>MinPrice</th>\n",
       "      <th>Price</th>\n",
       "      <th>MaxPrice</th>\n",
       "      <th>MPGcity</th>\n",
       "      <th>MPGhighway</th>\n",
       "      <th>AirBags</th>\n",
       "      <th>...</th>\n",
       "      <th>Passengers</th>\n",
       "      <th>Length</th>\n",
       "      <th>Wheelbase</th>\n",
       "      <th>Width</th>\n",
       "      <th>Turncircle</th>\n",
       "      <th>Rearseatroom</th>\n",
       "      <th>Luggageroom</th>\n",
       "      <th>Weight</th>\n",
       "      <th>Origin</th>\n",
       "      <th>Make</th>\n",
       "    </tr>\n",
       "  </thead>\n",
       "  <tbody>\n",
       "    <tr>\n",
       "      <th>0</th>\n",
       "      <td>1</td>\n",
       "      <td>Acura</td>\n",
       "      <td>Integra</td>\n",
       "      <td>Small</td>\n",
       "      <td>12.9</td>\n",
       "      <td>15.9</td>\n",
       "      <td>18.8</td>\n",
       "      <td>25</td>\n",
       "      <td>31</td>\n",
       "      <td>None</td>\n",
       "      <td>...</td>\n",
       "      <td>5</td>\n",
       "      <td>177</td>\n",
       "      <td>102</td>\n",
       "      <td>68</td>\n",
       "      <td>37</td>\n",
       "      <td>26.5</td>\n",
       "      <td>11.0</td>\n",
       "      <td>2705</td>\n",
       "      <td>non-USA</td>\n",
       "      <td>Acura Integra</td>\n",
       "    </tr>\n",
       "    <tr>\n",
       "      <th>1</th>\n",
       "      <td>2</td>\n",
       "      <td>Acura</td>\n",
       "      <td>Legend</td>\n",
       "      <td>Midsize</td>\n",
       "      <td>29.2</td>\n",
       "      <td>33.9</td>\n",
       "      <td>38.7</td>\n",
       "      <td>18</td>\n",
       "      <td>25</td>\n",
       "      <td>Driver &amp; Passenger</td>\n",
       "      <td>...</td>\n",
       "      <td>5</td>\n",
       "      <td>195</td>\n",
       "      <td>115</td>\n",
       "      <td>71</td>\n",
       "      <td>38</td>\n",
       "      <td>30.0</td>\n",
       "      <td>15.0</td>\n",
       "      <td>3560</td>\n",
       "      <td>non-USA</td>\n",
       "      <td>Acura Legend</td>\n",
       "    </tr>\n",
       "    <tr>\n",
       "      <th>2</th>\n",
       "      <td>3</td>\n",
       "      <td>Audi</td>\n",
       "      <td>90</td>\n",
       "      <td>Compact</td>\n",
       "      <td>25.9</td>\n",
       "      <td>29.1</td>\n",
       "      <td>32.3</td>\n",
       "      <td>20</td>\n",
       "      <td>26</td>\n",
       "      <td>Driver only</td>\n",
       "      <td>...</td>\n",
       "      <td>5</td>\n",
       "      <td>180</td>\n",
       "      <td>102</td>\n",
       "      <td>67</td>\n",
       "      <td>37</td>\n",
       "      <td>28.0</td>\n",
       "      <td>14.0</td>\n",
       "      <td>3375</td>\n",
       "      <td>non-USA</td>\n",
       "      <td>Audi 90</td>\n",
       "    </tr>\n",
       "  </tbody>\n",
       "</table>\n",
       "<p>3 rows × 28 columns</p>\n",
       "</div>"
      ],
      "text/plain": [
       "   id Manufacturer    Model     Type  MinPrice  Price  MaxPrice  MPGcity  \\\n",
       "0   1        Acura  Integra    Small      12.9   15.9      18.8       25   \n",
       "1   2        Acura   Legend  Midsize      29.2   33.9      38.7       18   \n",
       "2   3         Audi       90  Compact      25.9   29.1      32.3       20   \n",
       "\n",
       "   MPGhighway             AirBags  ... Passengers Length  Wheelbase  Width  \\\n",
       "0          31                None  ...          5    177        102     68   \n",
       "1          25  Driver & Passenger  ...          5    195        115     71   \n",
       "2          26         Driver only  ...          5    180        102     67   \n",
       "\n",
       "   Turncircle  Rearseatroom Luggageroom  Weight   Origin           Make  \n",
       "0          37          26.5        11.0    2705  non-USA  Acura Integra  \n",
       "1          38          30.0        15.0    3560  non-USA   Acura Legend  \n",
       "2          37          28.0        14.0    3375  non-USA        Audi 90  \n",
       "\n",
       "[3 rows x 28 columns]"
      ]
     },
     "execution_count": 3,
     "metadata": {},
     "output_type": "execute_result"
    }
   ],
   "source": [
    "A.head(3)"
   ]
  },
  {
   "cell_type": "markdown",
   "id": "da0b781b",
   "metadata": {},
   "source": [
    "# Missing Data Treatment"
   ]
  },
  {
   "cell_type": "code",
   "execution_count": 4,
   "id": "cd6d3480",
   "metadata": {},
   "outputs": [],
   "source": [
    "from warnings import filterwarnings\n",
    "filterwarnings(\"ignore\")"
   ]
  },
  {
   "cell_type": "code",
   "execution_count": 5,
   "id": "0f294263",
   "metadata": {},
   "outputs": [],
   "source": [
    "from PM8 import replacer\n",
    "replacer(A)"
   ]
  },
  {
   "cell_type": "markdown",
   "id": "324c131d",
   "metadata": {},
   "source": [
    "# Dropping Unwanted Columns which is not statistically important"
   ]
  },
  {
   "cell_type": "code",
   "execution_count": 6,
   "id": "718331df",
   "metadata": {},
   "outputs": [],
   "source": [
    "A = A.drop(labels=[\"id\",\"Make\",\"Model\"],axis=1)"
   ]
  },
  {
   "cell_type": "markdown",
   "id": "fee16986",
   "metadata": {},
   "source": [
    "# Define X and Y"
   ]
  },
  {
   "cell_type": "code",
   "execution_count": 7,
   "id": "19fff9d6",
   "metadata": {},
   "outputs": [],
   "source": [
    "X = A.drop(labels=[\"Type\"],axis=1)\n",
    "Y = A[[\"Type\"]]"
   ]
  },
  {
   "cell_type": "markdown",
   "id": "6135ae39",
   "metadata": {},
   "source": [
    "# Feature selection based on EDA\n",
    "we are performing ANOVA because Y=\"Type\" is a categorical and predictors as continuous\n",
    "\n",
    "Here we are checking our columns are dependent or not and we are selecting important columns on the basis of p-value(less than 0.05) ,if the p-value is more than 0.05 then the relation between X and Y are independent."
   ]
  },
  {
   "cell_type": "code",
   "execution_count": 8,
   "id": "9a24f515",
   "metadata": {},
   "outputs": [],
   "source": [
    "def ANOVA(df,cat,con):\n",
    "    from pandas import DataFrame\n",
    "    from statsmodels.api import OLS\n",
    "    from statsmodels.formula.api import ols\n",
    "    rel = con + \" ~ \" + cat\n",
    "    model = ols(rel,df).fit()\n",
    "    from statsmodels.stats.anova import anova_lm\n",
    "    anova_results = anova_lm(model)\n",
    "    Q = DataFrame(anova_results)\n",
    "    a = Q['PR(>F)'][cat]\n",
    "    return round(a,3)"
   ]
  },
  {
   "cell_type": "code",
   "execution_count": 9,
   "id": "bfd2d621",
   "metadata": {},
   "outputs": [
    {
     "name": "stdout",
     "output_type": "stream",
     "text": [
      "Type vs  MinPrice --> 0.0\n",
      "Type vs  Price --> 0.0\n",
      "Type vs  MaxPrice --> 0.0\n",
      "Type vs  MPGcity --> 0.0\n",
      "Type vs  MPGhighway --> 0.0\n",
      "Type vs  EngineSize --> 0.0\n",
      "Type vs  Horsepower --> 0.0\n",
      "Type vs  RPM --> 0.0\n",
      "Type vs  Revpermile --> 0.0\n",
      "Type vs  Fueltankcapacity --> 0.0\n",
      "Type vs  Passengers --> 0.0\n",
      "Type vs  Length --> 0.0\n",
      "Type vs  Wheelbase --> 0.0\n",
      "Type vs  Width --> 0.0\n",
      "Type vs  Turncircle --> 0.0\n",
      "Type vs  Rearseatroom --> 0.0\n",
      "Type vs  Luggageroom --> 0.0\n",
      "Type vs  Weight --> 0.0\n"
     ]
    }
   ],
   "source": [
    "imp_cols = []\n",
    "for i in X.columns:\n",
    "    if(X[i].dtypes!=\"object\"):\n",
    "        x = ANOVA(A,\"Type\",i)\n",
    "        if(x < 0.05):\n",
    "            print(\"Type vs \",i,\"-->\",x)\n",
    "            imp_cols.append(i)"
   ]
  },
  {
   "cell_type": "code",
   "execution_count": 10,
   "id": "d22b72ad",
   "metadata": {},
   "outputs": [
    {
     "data": {
      "text/plain": [
       "['MinPrice',\n",
       " 'Price',\n",
       " 'MaxPrice',\n",
       " 'MPGcity',\n",
       " 'MPGhighway',\n",
       " 'EngineSize',\n",
       " 'Horsepower',\n",
       " 'RPM',\n",
       " 'Revpermile',\n",
       " 'Fueltankcapacity',\n",
       " 'Passengers',\n",
       " 'Length',\n",
       " 'Wheelbase',\n",
       " 'Width',\n",
       " 'Turncircle',\n",
       " 'Rearseatroom',\n",
       " 'Luggageroom',\n",
       " 'Weight']"
      ]
     },
     "execution_count": 10,
     "metadata": {},
     "output_type": "execute_result"
    }
   ],
   "source": [
    "imp_cols"
   ]
  },
  {
   "cell_type": "markdown",
   "id": "a533f3d0",
   "metadata": {},
   "source": [
    "# Chi Square test \n",
    "Herep we performed on cat(X)_cat(Y) after performing we will get important columns on the basis of p-value(less than 0.05)\n",
    "\n",
    "In Chi-Square , We are using scipy.stats (library)"
   ]
  },
  {
   "cell_type": "code",
   "execution_count": 11,
   "id": "7193db6c",
   "metadata": {},
   "outputs": [],
   "source": [
    "from scipy.stats import chi2_contingency\n",
    "def chisquare(df,cat1,cat2):\n",
    "    import pandas as pd\n",
    "    ct = pd.crosstab(df[cat1],df[cat2])\n",
    "    a,b,c,d = chi2_contingency(ct)\n",
    "    return b"
   ]
  },
  {
   "cell_type": "code",
   "execution_count": 12,
   "id": "256abee0",
   "metadata": {},
   "outputs": [
    {
     "name": "stdout",
     "output_type": "stream",
     "text": [
      "Type vs  AirBags --> 0.00022621310210534361\n",
      "Type vs  DriveTrain --> 0.00012480179759447616\n",
      "Type vs  Cylinders --> 1.674244316924938e-07\n",
      "Type vs  Mantransavail --> 3.661469229213669e-10\n",
      "Type vs  Origin --> 0.015110051037674484\n"
     ]
    }
   ],
   "source": [
    "for i in X.columns:\n",
    "    if(X[i].dtypes==\"object\"):\n",
    "        x = chisquare(A,\"Type\",i)\n",
    "        if(x < 0.05):\n",
    "            print(\"Type vs \",i,\"-->\",x)\n",
    "            imp_cols.append(i)"
   ]
  },
  {
   "cell_type": "markdown",
   "id": "608bf3f1",
   "metadata": {},
   "source": [
    "# Preprocessing on important columns"
   ]
  },
  {
   "cell_type": "code",
   "execution_count": 13,
   "id": "a74ec55d",
   "metadata": {},
   "outputs": [
    {
     "data": {
      "text/plain": [
       "['MinPrice',\n",
       " 'Price',\n",
       " 'MaxPrice',\n",
       " 'MPGcity',\n",
       " 'MPGhighway',\n",
       " 'EngineSize',\n",
       " 'Horsepower',\n",
       " 'RPM',\n",
       " 'Revpermile',\n",
       " 'Fueltankcapacity',\n",
       " 'Passengers',\n",
       " 'Length',\n",
       " 'Wheelbase',\n",
       " 'Width',\n",
       " 'Turncircle',\n",
       " 'Rearseatroom',\n",
       " 'Luggageroom',\n",
       " 'Weight',\n",
       " 'AirBags',\n",
       " 'DriveTrain',\n",
       " 'Cylinders',\n",
       " 'Mantransavail',\n",
       " 'Origin']"
      ]
     },
     "execution_count": 13,
     "metadata": {},
     "output_type": "execute_result"
    }
   ],
   "source": [
    "imp_cols"
   ]
  },
  {
   "cell_type": "code",
   "execution_count": 14,
   "id": "9652bb9d",
   "metadata": {},
   "outputs": [],
   "source": [
    "from PM8 import preprocessing\n",
    "Xnew = preprocessing(X[imp_cols])"
   ]
  },
  {
   "cell_type": "markdown",
   "id": "e4dc4af3",
   "metadata": {},
   "source": [
    "# Split the Data in training and testing set"
   ]
  },
  {
   "cell_type": "code",
   "execution_count": 15,
   "id": "a7571452",
   "metadata": {},
   "outputs": [],
   "source": [
    "from sklearn.model_selection import train_test_split\n",
    "xtrain,xtest,ytrain,ytest=train_test_split(Xnew,Y,test_size=0.2,random_state=21)"
   ]
  },
  {
   "cell_type": "markdown",
   "id": "6cabc5ae",
   "metadata": {},
   "source": [
    "# Create LR model\n",
    "We are Creating a Logistic Regression Model because we are performing classification on car types"
   ]
  },
  {
   "cell_type": "code",
   "execution_count": 16,
   "id": "0bc399bc",
   "metadata": {},
   "outputs": [],
   "source": [
    "from sklearn.linear_model import LogisticRegression\n",
    "lr = LogisticRegression()\n",
    "model = lr.fit(xtrain,ytrain)\n",
    "pred_tr = model.predict(xtrain)\n",
    "pred_ts = model.predict(xtest)\n",
    "\n",
    "from sklearn.metrics import accuracy_score\n",
    "tr_acc = accuracy_score(ytrain,pred_tr)\n",
    "ts_acc = accuracy_score(ytest,pred_ts)"
   ]
  },
  {
   "cell_type": "code",
   "execution_count": 17,
   "id": "3627ba30",
   "metadata": {},
   "outputs": [
    {
     "data": {
      "text/plain": [
       "1.0"
      ]
     },
     "execution_count": 17,
     "metadata": {},
     "output_type": "execute_result"
    }
   ],
   "source": [
    "tr_acc"
   ]
  },
  {
   "cell_type": "code",
   "execution_count": 18,
   "id": "ef0c248b",
   "metadata": {},
   "outputs": [
    {
     "data": {
      "text/plain": [
       "0.9473684210526315"
      ]
     },
     "execution_count": 18,
     "metadata": {},
     "output_type": "execute_result"
    }
   ],
   "source": [
    "ts_acc"
   ]
  },
  {
   "cell_type": "raw",
   "id": "cdcbba14",
   "metadata": {},
   "source": [
    "By using sklearn.metrics we are getting good accuracy score. Hence we are using confusion matrix to predict the \"type\" "
   ]
  },
  {
   "cell_type": "code",
   "execution_count": 19,
   "id": "8feae36a",
   "metadata": {},
   "outputs": [
    {
     "data": {
      "text/plain": [
       "array([[1, 0, 0, 0, 0, 0],\n",
       "       [0, 3, 0, 0, 0, 0],\n",
       "       [0, 0, 4, 0, 0, 0],\n",
       "       [1, 0, 0, 3, 0, 0],\n",
       "       [0, 0, 0, 0, 5, 0],\n",
       "       [0, 0, 0, 0, 0, 2]], dtype=int64)"
      ]
     },
     "execution_count": 19,
     "metadata": {},
     "output_type": "execute_result"
    }
   ],
   "source": [
    "from sklearn.metrics import confusion_matrix\n",
    "confusion_matrix(ytest,pred_ts)"
   ]
  },
  {
   "cell_type": "code",
   "execution_count": 20,
   "id": "ce81c86d",
   "metadata": {},
   "outputs": [],
   "source": [
    "ytest['pred']=pred_ts"
   ]
  },
  {
   "cell_type": "code",
   "execution_count": 21,
   "id": "b8c90adb",
   "metadata": {},
   "outputs": [
    {
     "data": {
      "text/html": [
       "<div>\n",
       "<style scoped>\n",
       "    .dataframe tbody tr th:only-of-type {\n",
       "        vertical-align: middle;\n",
       "    }\n",
       "\n",
       "    .dataframe tbody tr th {\n",
       "        vertical-align: top;\n",
       "    }\n",
       "\n",
       "    .dataframe thead th {\n",
       "        text-align: right;\n",
       "    }\n",
       "</style>\n",
       "<table border=\"1\" class=\"dataframe\">\n",
       "  <thead>\n",
       "    <tr style=\"text-align: right;\">\n",
       "      <th></th>\n",
       "      <th>Type</th>\n",
       "      <th>pred</th>\n",
       "    </tr>\n",
       "  </thead>\n",
       "  <tbody>\n",
       "    <tr>\n",
       "      <th>91</th>\n",
       "      <td>Compact</td>\n",
       "      <td>Compact</td>\n",
       "    </tr>\n",
       "    <tr>\n",
       "      <th>21</th>\n",
       "      <td>Large</td>\n",
       "      <td>Large</td>\n",
       "    </tr>\n",
       "    <tr>\n",
       "      <th>17</th>\n",
       "      <td>Large</td>\n",
       "      <td>Large</td>\n",
       "    </tr>\n",
       "    <tr>\n",
       "      <th>19</th>\n",
       "      <td>Large</td>\n",
       "      <td>Large</td>\n",
       "    </tr>\n",
       "    <tr>\n",
       "      <th>10</th>\n",
       "      <td>Midsize</td>\n",
       "      <td>Midsize</td>\n",
       "    </tr>\n",
       "    <tr>\n",
       "      <th>3</th>\n",
       "      <td>Midsize</td>\n",
       "      <td>Midsize</td>\n",
       "    </tr>\n",
       "    <tr>\n",
       "      <th>1</th>\n",
       "      <td>Midsize</td>\n",
       "      <td>Midsize</td>\n",
       "    </tr>\n",
       "    <tr>\n",
       "      <th>36</th>\n",
       "      <td>Midsize</td>\n",
       "      <td>Midsize</td>\n",
       "    </tr>\n",
       "    <tr>\n",
       "      <th>23</th>\n",
       "      <td>Small</td>\n",
       "      <td>Compact</td>\n",
       "    </tr>\n",
       "    <tr>\n",
       "      <th>82</th>\n",
       "      <td>Small</td>\n",
       "      <td>Small</td>\n",
       "    </tr>\n",
       "    <tr>\n",
       "      <th>22</th>\n",
       "      <td>Small</td>\n",
       "      <td>Small</td>\n",
       "    </tr>\n",
       "    <tr>\n",
       "      <th>83</th>\n",
       "      <td>Small</td>\n",
       "      <td>Small</td>\n",
       "    </tr>\n",
       "    <tr>\n",
       "      <th>34</th>\n",
       "      <td>Sporty</td>\n",
       "      <td>Sporty</td>\n",
       "    </tr>\n",
       "    <tr>\n",
       "      <th>27</th>\n",
       "      <td>Sporty</td>\n",
       "      <td>Sporty</td>\n",
       "    </tr>\n",
       "    <tr>\n",
       "      <th>40</th>\n",
       "      <td>Sporty</td>\n",
       "      <td>Sporty</td>\n",
       "    </tr>\n",
       "    <tr>\n",
       "      <th>13</th>\n",
       "      <td>Sporty</td>\n",
       "      <td>Sporty</td>\n",
       "    </tr>\n",
       "    <tr>\n",
       "      <th>84</th>\n",
       "      <td>Sporty</td>\n",
       "      <td>Sporty</td>\n",
       "    </tr>\n",
       "    <tr>\n",
       "      <th>86</th>\n",
       "      <td>Van</td>\n",
       "      <td>Van</td>\n",
       "    </tr>\n",
       "    <tr>\n",
       "      <th>55</th>\n",
       "      <td>Van</td>\n",
       "      <td>Van</td>\n",
       "    </tr>\n",
       "  </tbody>\n",
       "</table>\n",
       "</div>"
      ],
      "text/plain": [
       "       Type     pred\n",
       "91  Compact  Compact\n",
       "21    Large    Large\n",
       "17    Large    Large\n",
       "19    Large    Large\n",
       "10  Midsize  Midsize\n",
       "3   Midsize  Midsize\n",
       "1   Midsize  Midsize\n",
       "36  Midsize  Midsize\n",
       "23    Small  Compact\n",
       "82    Small    Small\n",
       "22    Small    Small\n",
       "83    Small    Small\n",
       "34   Sporty   Sporty\n",
       "27   Sporty   Sporty\n",
       "40   Sporty   Sporty\n",
       "13   Sporty   Sporty\n",
       "84   Sporty   Sporty\n",
       "86      Van      Van\n",
       "55      Van      Van"
      ]
     },
     "execution_count": 21,
     "metadata": {},
     "output_type": "execute_result"
    }
   ],
   "source": [
    "ytest.sort_values(by=[\"Type\",\"pred\"])"
   ]
  },
  {
   "cell_type": "code",
   "execution_count": null,
   "id": "07ae12e9",
   "metadata": {},
   "outputs": [],
   "source": []
  }
 ],
 "metadata": {
  "kernelspec": {
   "display_name": "Python 3",
   "language": "python",
   "name": "python3"
  },
  "language_info": {
   "codemirror_mode": {
    "name": "ipython",
    "version": 3
   },
   "file_extension": ".py",
   "mimetype": "text/x-python",
   "name": "python",
   "nbconvert_exporter": "python",
   "pygments_lexer": "ipython3",
   "version": "3.8.8"
  }
 },
 "nbformat": 4,
 "nbformat_minor": 5
}
