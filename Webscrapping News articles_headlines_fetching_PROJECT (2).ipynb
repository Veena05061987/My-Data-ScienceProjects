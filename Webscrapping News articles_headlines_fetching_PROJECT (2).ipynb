{
 "cells": [
  {
   "cell_type": "markdown",
   "id": "efa36ae1",
   "metadata": {},
   "source": [
    "# Web Scrapping And Data Preparation For Articles \n"
   ]
  },
  {
   "cell_type": "markdown",
   "id": "883dd8b9",
   "metadata": {},
   "source": [
    "# Goal - Fetching heading and articles from URL"
   ]
  },
  {
   "cell_type": "code",
   "execution_count": 1,
   "id": "7a17f15d",
   "metadata": {},
   "outputs": [],
   "source": [
    "#Fetchincg the URL"
   ]
  },
  {
   "cell_type": "code",
   "execution_count": 2,
   "id": "1f6554ba",
   "metadata": {},
   "outputs": [],
   "source": [
    "url = \"https://www.opindia.com/latest-news/\""
   ]
  },
  {
   "cell_type": "code",
   "execution_count": 3,
   "id": "814f215d",
   "metadata": {},
   "outputs": [
    {
     "data": {
      "text/plain": [
       "'https://www.opindia.com/latest-news/'"
      ]
     },
     "execution_count": 3,
     "metadata": {},
     "output_type": "execute_result"
    }
   ],
   "source": [
    "url"
   ]
  },
  {
   "cell_type": "code",
   "execution_count": 4,
   "id": "8e5f6972",
   "metadata": {},
   "outputs": [],
   "source": [
    "#Importing Libraries get and BeautifulSoup"
   ]
  },
  {
   "cell_type": "code",
   "execution_count": 5,
   "id": "163112f5",
   "metadata": {},
   "outputs": [],
   "source": [
    "from requests import get\n",
    "from bs4 import BeautifulSoup"
   ]
  },
  {
   "cell_type": "code",
   "execution_count": 6,
   "id": "39333a1e",
   "metadata": {},
   "outputs": [],
   "source": [
    " #Beautiful Soup is a python Libraray for pulling the data out of HTML as well as XML."
   ]
  },
  {
   "cell_type": "code",
   "execution_count": 7,
   "id": "b41ae1c3",
   "metadata": {},
   "outputs": [],
   "source": [
    "data=get(url)\n",
    "soup=BeautifulSoup(data.content)"
   ]
  },
  {
   "cell_type": "code",
   "execution_count": 9,
   "id": "305b66af",
   "metadata": {},
   "outputs": [],
   "source": [
    "urls=[]\n",
    "for i in soup.find_all(\"h3\",class_=['entry-title td-module-title']):\n",
    "     urls.append(i.a['href'])"
   ]
  },
  {
   "cell_type": "code",
   "execution_count": 10,
   "id": "ea4dca15",
   "metadata": {},
   "outputs": [
    {
     "data": {
      "text/plain": [
       "['https://www.opindia.com/2022/06/hyderabad-congress-leader-rashed-khan-open-charminar-for-namaz-asi-bhagya-lakshmi-temple/',\n",
       " 'https://www.opindia.com/2022/05/maharashtra-ncp-prophet-muhammad-nupur-sharma-blasphemy/',\n",
       " 'https://www.opindia.com/2022/05/special-cbi-court-sends-delhi-health-minister-satyendar-jain-to-ed-custody-june-9/',\n",
       " 'https://www.opindia.com/2022/05/aap-apes-congress-in-insulting-pm-modi-calls-him-chor-after-ed-arrested-satyendar-jain/',\n",
       " 'https://www.opindia.com/2022/05/if-we-knew-there-was-a-shivling-we-would-have-destroyed-and-removed-it-president-of-rashtriya-bunkar-action-committee-gyanvapi/',\n",
       " 'https://www.opindia.com/2022/05/panchayat-amazon-original-india-potrayal-flaws-glory/',\n",
       " 'https://www.opindia.com/2022/05/bollywood-superstars-actors-younger-age-hero-over-50/',\n",
       " 'https://www.opindia.com/2022/05/threats-to-nupur-sharma-show-how-indian-muslim-genocide-alert-is-a-smokescreen/',\n",
       " 'https://www.opindia.com/2022/05/the-new-york-times-distorts-history-says-india-was-partitioned-from-pakistan/',\n",
       " 'https://www.opindia.com/2022/05/islamist-violence-in-the-month-of-ramzan-2022-world-over/',\n",
       " 'https://www.opindia.com/2022/05/fact-check-sidhu-moosewala-goldy-brar-aam-aadmi-part-aap-bhagwant-mann-photo/',\n",
       " 'https://www.opindia.com/2022/05/mahant-of-kashi-temple-slams-media-for-distorting-his-comments-on-shivling-in-gyanvapi/',\n",
       " 'https://www.opindia.com/2022/05/fact-check-is-indian-flag-at-wagah-border-visible-from-lahore/',\n",
       " 'https://www.opindia.com/2022/05/fact-check-uttar-pradesh-government-ration-card-rules-surrender-up/',\n",
       " 'https://www.opindia.com/2022/05/times-of-india-gives-platform-to-pedophilia-accused-indian-origin-british-journo-hasan-suroor-to-mouth-platitudes-on-secularism/',\n",
       " 'https://www.opindia.com/2022/05/if-we-knew-there-was-a-shivling-we-would-have-destroyed-and-removed-it-president-of-rashtriya-bunkar-action-committee-gyanvapi/',\n",
       " 'https://www.opindia.com/2022/05/the-atlantic-claims-india-has-become-hindu-state-in-its-propaganda-piece/',\n",
       " 'https://www.opindia.com/2022/05/vivek-agnihotri-the-kashmir-files-new-york-times-suhasini-raj/',\n",
       " 'https://www.opindia.com/2022/05/mahant-of-kashi-temple-slams-media-for-distorting-his-comments-on-shivling-in-gyanvapi/',\n",
       " 'https://www.opindia.com/2022/05/singer-papon-praises-assam-government-improvise-films-in-the-state-after-representing-cannes-film-festival/',\n",
       " 'https://www.opindia.com/2022/05/review-sita-ram-goel-how-i-became-hindu-bengali-hindu/',\n",
       " 'https://www.opindia.com/2022/05/how-mughals-lost-to-nadir-shah-and-surrendered-afghanistan-peacock-throne-wealth-indus/',\n",
       " 'https://www.opindia.com/2022/05/bhojshala-hindu-educational-centre-a-historic-temple-of-goddess-saraswati-how-it-became-the-kamal-maulana-mosque/',\n",
       " 'https://www.opindia.com/2022/05/what-happens-if-a-muslim-becomes-an-apostate-and-renounces-islam/',\n",
       " 'https://www.opindia.com/2022/05/in-1947-local-kashmiri-muslims-had-betrayed-to-help-pakistani-invaders/',\n",
       " 'https://www.opindia.com/2022/05/islamists-issue-death-threats-to-nupur-sharma-prophet-muhammad-aisha-what-islamic-scriptures-say/',\n",
       " 'https://www.opindia.com/2022/05/opinion-on-prophet-muhammad-is-not-derogatory-foe-is-not-blasphemy-madras-hc-historic-verdict-2019/',\n",
       " 'https://www.opindia.com/2022/06/hyderabad-congress-leader-rashed-khan-open-charminar-for-namaz-asi-bhagya-lakshmi-temple/',\n",
       " 'https://www.opindia.com/2022/05/maharashtra-ncp-prophet-muhammad-nupur-sharma-blasphemy/',\n",
       " 'https://www.opindia.com/2022/05/special-cbi-court-sends-delhi-health-minister-satyendar-jain-to-ed-custody-june-9/',\n",
       " 'https://www.opindia.com/2022/05/aap-apes-congress-in-insulting-pm-modi-calls-him-chor-after-ed-arrested-satyendar-jain/',\n",
       " 'https://www.opindia.com/2022/05/if-we-knew-there-was-a-shivling-we-would-have-destroyed-and-removed-it-president-of-rashtriya-bunkar-action-committee-gyanvapi/',\n",
       " 'https://www.opindia.com/2022/05/panchayat-amazon-original-india-potrayal-flaws-glory/',\n",
       " 'https://www.opindia.com/2022/05/bollywood-superstars-actors-younger-age-hero-over-50/',\n",
       " 'https://www.opindia.com/2022/05/threats-to-nupur-sharma-show-how-indian-muslim-genocide-alert-is-a-smokescreen/',\n",
       " 'https://www.opindia.com/2022/05/the-new-york-times-distorts-history-says-india-was-partitioned-from-pakistan/',\n",
       " 'https://www.opindia.com/2022/05/islamist-violence-in-the-month-of-ramzan-2022-world-over/',\n",
       " 'https://www.opindia.com/2022/05/fact-check-sidhu-moosewala-goldy-brar-aam-aadmi-part-aap-bhagwant-mann-photo/',\n",
       " 'https://www.opindia.com/2022/05/mahant-of-kashi-temple-slams-media-for-distorting-his-comments-on-shivling-in-gyanvapi/',\n",
       " 'https://www.opindia.com/2022/05/fact-check-is-indian-flag-at-wagah-border-visible-from-lahore/',\n",
       " 'https://www.opindia.com/2022/05/fact-check-uttar-pradesh-government-ration-card-rules-surrender-up/',\n",
       " 'https://www.opindia.com/2022/05/times-of-india-gives-platform-to-pedophilia-accused-indian-origin-british-journo-hasan-suroor-to-mouth-platitudes-on-secularism/',\n",
       " 'https://www.opindia.com/2022/05/if-we-knew-there-was-a-shivling-we-would-have-destroyed-and-removed-it-president-of-rashtriya-bunkar-action-committee-gyanvapi/',\n",
       " 'https://www.opindia.com/2022/05/the-atlantic-claims-india-has-become-hindu-state-in-its-propaganda-piece/',\n",
       " 'https://www.opindia.com/2022/05/vivek-agnihotri-the-kashmir-files-new-york-times-suhasini-raj/',\n",
       " 'https://www.opindia.com/2022/05/mahant-of-kashi-temple-slams-media-for-distorting-his-comments-on-shivling-in-gyanvapi/',\n",
       " 'https://www.opindia.com/2022/05/singer-papon-praises-assam-government-improvise-films-in-the-state-after-representing-cannes-film-festival/',\n",
       " 'https://www.opindia.com/2022/05/review-sita-ram-goel-how-i-became-hindu-bengali-hindu/',\n",
       " 'https://www.opindia.com/2022/05/how-mughals-lost-to-nadir-shah-and-surrendered-afghanistan-peacock-throne-wealth-indus/',\n",
       " 'https://www.opindia.com/2022/05/bhojshala-hindu-educational-centre-a-historic-temple-of-goddess-saraswati-how-it-became-the-kamal-maulana-mosque/',\n",
       " 'https://www.opindia.com/2022/05/what-happens-if-a-muslim-becomes-an-apostate-and-renounces-islam/',\n",
       " 'https://www.opindia.com/2022/05/in-1947-local-kashmiri-muslims-had-betrayed-to-help-pakistani-invaders/',\n",
       " 'https://www.opindia.com/2022/05/islamists-issue-death-threats-to-nupur-sharma-prophet-muhammad-aisha-what-islamic-scriptures-say/',\n",
       " 'https://www.opindia.com/2022/05/opinion-on-prophet-muhammad-is-not-derogatory-foe-is-not-blasphemy-madras-hc-historic-verdict-2019/',\n",
       " 'https://www.opindia.com/2022/06/did-bad-management-kill-kk-viral-video-kk-complaining-non-functional-ac-auditorium-packed-beyond-capacity/',\n",
       " 'https://www.opindia.com/2022/06/hyderabad-congress-leader-rashed-khan-open-charminar-for-namaz-asi-bhagya-lakshmi-temple/',\n",
       " 'https://www.opindia.com/2022/06/kerala-high-court-allows-lesbian-adhila-nassrin-fathima-noora-to-live-together-they-still-fear-family/',\n",
       " 'https://www.opindia.com/2022/06/hyderabad-nupur-sharma-third-fir-prophet-muhammad/',\n",
       " 'https://www.opindia.com/2022/06/singer-kk-passes-away-after-performing-at-a-concert-in-kolkata/',\n",
       " 'https://www.opindia.com/2022/05/bangladeshi-woman-swims-across-the-sunderbans-to-meet-her-lover-in-west-bengal-held-in-india/',\n",
       " 'https://www.opindia.com/2022/05/maharanas-a-thousand-year-war-for-dharma-by-omendra-ratnu-chronicles-the-proud-legacy-of-the-rajput-dynasty/',\n",
       " 'https://www.opindia.com/2022/05/gyanvapi-case-muslim-cleric-ilyas-sharafuddin-shivling/',\n",
       " 'https://www.opindia.com/2022/05/sperm-donor-fathered-15-children-for-lesbian-mothers-without-telling-them-he-had-inheritable-low-iq-illness/',\n",
       " 'https://www.opindia.com/2022/05/vivek-agnihotri-oxford-union-humanity-tour-kashmir-files/',\n",
       " 'https://www.opindia.com/2022/05/assam-madarsas-challenge-govts-order-to-convert-them-into-regular-schools-reach-sc-with-petition-after-hc-rejects-it/',\n",
       " 'https://www.opindia.com/2022/05/karnataka-idols-vandalised-by-miscreants-in-hassan-probe-underway/',\n",
       " 'https://www.opindia.com/2022/05/maharashtra-ncp-prophet-muhammad-nupur-sharma-blasphemy/',\n",
       " 'https://www.opindia.com/2022/05/case-of-contempt-of-national-flag-against-kunal-kamra-for-insulting-the-indian-tricolor-with-a-morphed-image/',\n",
       " 'https://www.opindia.com/2022/05/tvf-jitendra-kumar-panchayat-pitchers-kota-factory/',\n",
       " 'https://www.opindia.com/2022/05/special-cbi-court-sends-delhi-health-minister-satyendar-jain-to-ed-custody-june-9/',\n",
       " 'https://www.opindia.com/2022/05/times-of-india-gives-platform-to-pedophilia-accused-indian-origin-british-journo-hasan-suroor-to-mouth-platitudes-on-secularism/',\n",
       " 'https://www.opindia.com/2022/05/sidhu-moosewala-father-removes-turban-as-mark-of-respect-for-attendees-at-sons-cremation-seeks-justice-in-murder-case/',\n",
       " 'https://www.opindia.com/2022/05/maharashtra-bjp-ahilyabai-holkar-ncp-choundi-gopichand-padalkar-devendra-fadnavis/',\n",
       " 'https://www.opindia.com/2022/05/aap-apes-congress-in-insulting-pm-modi-calls-him-chor-after-ed-arrested-satyendar-jain/',\n",
       " 'https://www.opindia.com/2022/05/panchayat-amazon-original-india-potrayal-flaws-glory/',\n",
       " 'https://www.opindia.com/2022/05/karnataka-video-of-youth-performing-burqa-dance-at-kodagu-cultural-event-goes-viral/',\n",
       " 'https://www.opindia.com/2022/05/xinjiang-china-muslim-uyghurs-files-concentration-camps-genocide/',\n",
       " 'https://www.opindia.com/2022/05/abhi-maare-jayenge-sab-farooq-abdullah-targeted-killing-of-hindu-teacher-terrorists-in-kashmir/',\n",
       " 'https://www.opindia.com/2022/05/aamir-khan-laal-singh-chaddha-forrest-gump-memento-prestige-ghajini-dhoom/',\n",
       " 'https://www.opindia.com/2022/05/chhattisgarh-anger-affection-desperation-a-roller-coaster-ride-of-parents-whose-daughter-fell-prey-to-love-jihad/',\n",
       " 'https://www.opindia.com/2022/05/if-we-knew-there-was-a-shivling-we-would-have-destroyed-and-removed-it-president-of-rashtriya-bunkar-action-committee-gyanvapi/',\n",
       " 'https://www.opindia.com/2022/05/hindu-woman-teacher-shot-dead-by-islamic-terrorists-in-kashmir/',\n",
       " 'https://www.opindia.com/2022/05/hardik-patel-sedition-convict-joins-bjp/',\n",
       " 'https://www.opindia.com/2022/05/hyderabad-nehru-portrait-absent-from-salar-jung-museums-exhibition-on-freedom-struggle-congress-protest/',\n",
       " 'https://www.opindia.com/2022/05/what-happens-if-a-muslim-becomes-an-apostate-and-renounces-islam/',\n",
       " 'https://www.opindia.com/2022/05/bollywood-superstars-actors-younger-age-hero-over-50/',\n",
       " 'https://www.opindia.com/2022/05/punjab-man-kills-wife-and-daughter-in-patiala-beheads-one-of-them/',\n",
       " 'https://www.opindia.com/2022/05/new-visuals-of-shivling-inside-gyanvapi-compound-surfaces-swastika-trishul-and-lotus-motifs-found-engraved-in-basement/',\n",
       " 'https://www.opindia.com/2022/05/jammu-kashmir-mudassir-ahmed-father-martyrdom-india-tirangaa/',\n",
       " 'https://www.opindia.com/2022/05/delhi-rains-jama-masjid-rain-thunderstorm-ncr/',\n",
       " 'https://www.opindia.com/2022/05/enforcement-directorate-satyendra-jain-aam-aadmi-party-aap-arrested-hawala-transaction-money-laundering/',\n",
       " 'https://www.opindia.com/2022/05/gangster-lawrence-bishnoi-accused-of-killing-sidhu-moosewala-moves-court-fearing-encounter-by-punjab-police/',\n",
       " 'https://www.opindia.com/2022/05/aimim-chief-asaddudin-owaisi-dog-whistles-against-bjp-spokesperson-nupur-sharma/',\n",
       " 'https://www.opindia.com/2022/05/mass-shootings-continue-in-usa-11-more-reported-since-the-uvalde-school-massacre-5-days-ago/',\n",
       " 'https://www.opindia.com/2022/05/fast-track-court-varanasi-gyanvadi-permission-worship-shivling-deferred-july-4/',\n",
       " 'https://www.opindia.com/2022/05/bjp-goes-international-martial-arts-hero-jiri-prochazka-launches-his-store-here-is-what-has-left-netizens-amused/',\n",
       " 'https://www.opindia.com/2022/05/nupur-sharma-bjp-national-spokesperson-mumbra-maharashtra-police/',\n",
       " 'https://www.opindia.com/2022/05/singer-papon-praises-assam-government-improvise-films-in-the-state-after-representing-cannes-film-festival/',\n",
       " 'https://www.opindia.com/2022/05/two-men-assault-farmer-leader-rakesh-tikait-with-a-microphone-and-blackens-his-face-with-ink/',\n",
       " 'https://www.opindia.com/2022/05/sfj-sikhs-for-justice-gurpatwant-singh-pannun-sidhu-moosewala-punjab-singers/',\n",
       " 'https://www.opindia.com/2022/05/ashikul-islam-who-incited-mob-to-torch-police-station-in-assam-gets-killed-in-a-road-accident-details/',\n",
       " 'https://www.opindia.com/2022/05/sidhu-moosewala-murder-congress-left-downplayed-it-when-pm-modis-convoy-was-stuck-in-punjab/',\n",
       " 'https://www.opindia.com/2022/05/abdul-puncture-banata-uska-beta-puncture-nahi-banayega-owaisi-urges-muslims-contest-elections-and-win/',\n",
       " 'https://www.opindia.com/2022/05/aimim-inquilab-nupur-sharma-bjp-spokesperson-blasphemy-alt-news-mohammed-zubair/']"
      ]
     },
     "execution_count": 10,
     "metadata": {},
     "output_type": "execute_result"
    }
   ],
   "source": [
    "urls"
   ]
  },
  {
   "cell_type": "code",
   "execution_count": 11,
   "id": "85ceab52",
   "metadata": {},
   "outputs": [],
   "source": [
    "headlines = []\n",
    "articles = []\n",
    "for j in urls:\n",
    "    data = get(j)\n",
    "    soup = BeautifulSoup(data.content)\n",
    "    for i in soup.find_all(\"h1\"):\n",
    "        headlines.append(i.text)\n",
    "    for i in soup.find_all('div',class_=['tdb-block-inner td-fix-index']):\n",
    "        articles.append(i.text)"
   ]
  },
  {
   "cell_type": "code",
   "execution_count": 12,
   "id": "0d1d3c83",
   "metadata": {},
   "outputs": [
    {
     "data": {
      "text/html": [
       "<div>\n",
       "<style scoped>\n",
       "    .dataframe tbody tr th:only-of-type {\n",
       "        vertical-align: middle;\n",
       "    }\n",
       "\n",
       "    .dataframe tbody tr th {\n",
       "        vertical-align: top;\n",
       "    }\n",
       "\n",
       "    .dataframe thead th {\n",
       "        text-align: right;\n",
       "    }\n",
       "</style>\n",
       "<table border=\"1\" class=\"dataframe\">\n",
       "  <thead>\n",
       "    <tr style=\"text-align: right;\">\n",
       "      <th></th>\n",
       "      <th>0</th>\n",
       "      <th>1</th>\n",
       "    </tr>\n",
       "  </thead>\n",
       "  <tbody>\n",
       "    <tr>\n",
       "      <th>0</th>\n",
       "      <td>Hyderabad: ‘Open Charminar mosque for Namaz, B...</td>\n",
       "      <td></td>\n",
       "    </tr>\n",
       "    <tr>\n",
       "      <th>1</th>\n",
       "      <td>Maharashtra: NCP workers join Islamists to out...</td>\n",
       "      <td>OpIndiabringing the \\'right\\' side of India</td>\n",
       "    </tr>\n",
       "    <tr>\n",
       "      <th>2</th>\n",
       "      <td>Delhi Health Minister Satyendar Jain sent to E...</td>\n",
       "      <td></td>\n",
       "    </tr>\n",
       "    <tr>\n",
       "      <th>3</th>\n",
       "      <td>AAP apes Congress in insulting PM Modi, calls ...</td>\n",
       "      <td></td>\n",
       "    </tr>\n",
       "    <tr>\n",
       "      <th>4</th>\n",
       "      <td>‘If we knew there was a Shivling, we would hav...</td>\n",
       "      <td>OpIndiabringing the \\'right\\' side of India</td>\n",
       "    </tr>\n",
       "    <tr>\n",
       "      <th>5</th>\n",
       "      <td>Panchayat strikes a chord with the Indian audi...</td>\n",
       "      <td></td>\n",
       "    </tr>\n",
       "    <tr>\n",
       "      <th>6</th>\n",
       "      <td>Bollywood superstars nearing 60 paired against...</td>\n",
       "      <td>Wednesday, June 1, 2022</td>\n",
       "    </tr>\n",
       "  </tbody>\n",
       "</table>\n",
       "</div>"
      ],
      "text/plain": [
       "                                                   0  \\\n",
       "0  Hyderabad: ‘Open Charminar mosque for Namaz, B...   \n",
       "1  Maharashtra: NCP workers join Islamists to out...   \n",
       "2  Delhi Health Minister Satyendar Jain sent to E...   \n",
       "3  AAP apes Congress in insulting PM Modi, calls ...   \n",
       "4  ‘If we knew there was a Shivling, we would hav...   \n",
       "5  Panchayat strikes a chord with the Indian audi...   \n",
       "6  Bollywood superstars nearing 60 paired against...   \n",
       "\n",
       "                                             1  \n",
       "0                                               \n",
       "1  OpIndiabringing the \\'right\\' side of India  \n",
       "2                                               \n",
       "3                                               \n",
       "4  OpIndiabringing the \\'right\\' side of India  \n",
       "5                                               \n",
       "6                      Wednesday, June 1, 2022  "
      ]
     },
     "execution_count": 12,
     "metadata": {},
     "output_type": "execute_result"
    }
   ],
   "source": [
    "import pandas as pd\n",
    "Q = pd.DataFrame([headlines,articles]).T\n",
    "Q.head(7)"
   ]
  },
  {
   "cell_type": "code",
   "execution_count": 13,
   "id": "5c9ce89a",
   "metadata": {},
   "outputs": [],
   "source": [
    "Q.columns = [\"Headline\",\"article\"]"
   ]
  },
  {
   "cell_type": "code",
   "execution_count": 14,
   "id": "a731b126",
   "metadata": {},
   "outputs": [
    {
     "data": {
      "text/html": [
       "<div>\n",
       "<style scoped>\n",
       "    .dataframe tbody tr th:only-of-type {\n",
       "        vertical-align: middle;\n",
       "    }\n",
       "\n",
       "    .dataframe tbody tr th {\n",
       "        vertical-align: top;\n",
       "    }\n",
       "\n",
       "    .dataframe thead th {\n",
       "        text-align: right;\n",
       "    }\n",
       "</style>\n",
       "<table border=\"1\" class=\"dataframe\">\n",
       "  <thead>\n",
       "    <tr style=\"text-align: right;\">\n",
       "      <th></th>\n",
       "      <th>Headline</th>\n",
       "      <th>article</th>\n",
       "    </tr>\n",
       "  </thead>\n",
       "  <tbody>\n",
       "    <tr>\n",
       "      <th>0</th>\n",
       "      <td>Hyderabad: ‘Open Charminar mosque for Namaz, B...</td>\n",
       "      <td></td>\n",
       "    </tr>\n",
       "    <tr>\n",
       "      <th>1</th>\n",
       "      <td>Maharashtra: NCP workers join Islamists to out...</td>\n",
       "      <td>OpIndiabringing the \\'right\\' side of India</td>\n",
       "    </tr>\n",
       "    <tr>\n",
       "      <th>2</th>\n",
       "      <td>Delhi Health Minister Satyendar Jain sent to E...</td>\n",
       "      <td></td>\n",
       "    </tr>\n",
       "    <tr>\n",
       "      <th>3</th>\n",
       "      <td>AAP apes Congress in insulting PM Modi, calls ...</td>\n",
       "      <td></td>\n",
       "    </tr>\n",
       "    <tr>\n",
       "      <th>4</th>\n",
       "      <td>‘If we knew there was a Shivling, we would hav...</td>\n",
       "      <td>OpIndiabringing the \\'right\\' side of India</td>\n",
       "    </tr>\n",
       "    <tr>\n",
       "      <th>...</th>\n",
       "      <td>...</td>\n",
       "      <td>...</td>\n",
       "    </tr>\n",
       "    <tr>\n",
       "      <th>2315</th>\n",
       "      <td>None</td>\n",
       "      <td>\\n\\nQavi Abbasi (right) has announced a bounty...</td>\n",
       "    </tr>\n",
       "    <tr>\n",
       "      <th>2316</th>\n",
       "      <td>None</td>\n",
       "      <td>450</td>\n",
       "    </tr>\n",
       "    <tr>\n",
       "      <th>2317</th>\n",
       "      <td>None</td>\n",
       "      <td>\\n\\n\\n\\nEver since Alt News co-founder Mohamme...</td>\n",
       "    </tr>\n",
       "    <tr>\n",
       "      <th>2318</th>\n",
       "      <td>None</td>\n",
       "      <td>TopicsAIMIM InquilabAlt NewsNupur Sharma</td>\n",
       "    </tr>\n",
       "    <tr>\n",
       "      <th>2319</th>\n",
       "      <td>None</td>\n",
       "      <td>OpIndia Staffhttps://www.opindia.comStaff repo...</td>\n",
       "    </tr>\n",
       "  </tbody>\n",
       "</table>\n",
       "<p>2320 rows × 2 columns</p>\n",
       "</div>"
      ],
      "text/plain": [
       "                                               Headline  \\\n",
       "0     Hyderabad: ‘Open Charminar mosque for Namaz, B...   \n",
       "1     Maharashtra: NCP workers join Islamists to out...   \n",
       "2     Delhi Health Minister Satyendar Jain sent to E...   \n",
       "3     AAP apes Congress in insulting PM Modi, calls ...   \n",
       "4     ‘If we knew there was a Shivling, we would hav...   \n",
       "...                                                 ...   \n",
       "2315                                               None   \n",
       "2316                                               None   \n",
       "2317                                               None   \n",
       "2318                                               None   \n",
       "2319                                               None   \n",
       "\n",
       "                                                article  \n",
       "0                                                        \n",
       "1           OpIndiabringing the \\'right\\' side of India  \n",
       "2                                                        \n",
       "3                                                        \n",
       "4           OpIndiabringing the \\'right\\' side of India  \n",
       "...                                                 ...  \n",
       "2315  \\n\\nQavi Abbasi (right) has announced a bounty...  \n",
       "2316                                                450  \n",
       "2317  \\n\\n\\n\\nEver since Alt News co-founder Mohamme...  \n",
       "2318           TopicsAIMIM InquilabAlt NewsNupur Sharma  \n",
       "2319  OpIndia Staffhttps://www.opindia.comStaff repo...  \n",
       "\n",
       "[2320 rows x 2 columns]"
      ]
     },
     "execution_count": 14,
     "metadata": {},
     "output_type": "execute_result"
    }
   ],
   "source": [
    "Q"
   ]
  },
  {
   "cell_type": "code",
   "execution_count": null,
   "id": "e1cfc320",
   "metadata": {},
   "outputs": [],
   "source": []
  }
 ],
 "metadata": {
  "kernelspec": {
   "display_name": "Python 3",
   "language": "python",
   "name": "python3"
  },
  "language_info": {
   "codemirror_mode": {
    "name": "ipython",
    "version": 3
   },
   "file_extension": ".py",
   "mimetype": "text/x-python",
   "name": "python",
   "nbconvert_exporter": "python",
   "pygments_lexer": "ipython3",
   "version": "3.8.8"
  }
 },
 "nbformat": 4,
 "nbformat_minor": 5
}
