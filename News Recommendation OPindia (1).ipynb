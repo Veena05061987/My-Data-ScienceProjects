{
 "cells": [
  {
   "cell_type": "markdown",
   "id": "a3a1939e",
   "metadata": {},
   "source": [
    "# News Recommendation Using Clusters\n"
   ]
  },
  {
   "cell_type": "markdown",
   "id": "236b74db",
   "metadata": {},
   "source": [
    "# Goal is to recommend  the news in which the person is interested\n"
   ]
  },
  {
   "cell_type": "code",
   "execution_count": null,
   "id": "7ddaa8b0",
   "metadata": {},
   "outputs": [],
   "source": [
    "#Fetchinh URL"
   ]
  },
  {
   "cell_type": "code",
   "execution_count": 1,
   "id": "26d031fc",
   "metadata": {},
   "outputs": [],
   "source": [
    "import requests\n",
    "from bs4 import BeautifulSoup\n",
    "url = \"https://www.opindia.com/latest-news/\"\n",
    "data = requests.get(url)\n",
    "import pandas as pd"
   ]
  },
  {
   "cell_type": "code",
   "execution_count": 2,
   "id": "579824e0",
   "metadata": {},
   "outputs": [
    {
     "data": {
      "text/plain": [
       "<Response [200]>"
      ]
     },
     "execution_count": 2,
     "metadata": {},
     "output_type": "execute_result"
    }
   ],
   "source": [
    "data"
   ]
  },
  {
   "cell_type": "code",
   "execution_count": 3,
   "id": "eca2f061",
   "metadata": {},
   "outputs": [],
   "source": [
    "#data.content"
   ]
  },
  {
   "cell_type": "code",
   "execution_count": 4,
   "id": "edf17fad",
   "metadata": {},
   "outputs": [],
   "source": [
    "soup = BeautifulSoup(data.content)"
   ]
  },
  {
   "cell_type": "code",
   "execution_count": 5,
   "id": "2253f9f8",
   "metadata": {},
   "outputs": [],
   "source": [
    "def fetch_article(url):\n",
    "    data = requests.get(url)\n",
    "    soup = BeautifulSoup(data.content,\"html.parser\")\n",
    "    articles = []\n",
    "    for i in soup.find_all(\"h3\",class_ = [\"entry-title td-module-title\"]):\n",
    "        articles.append(i.find('a')['title'])     \n",
    "    return articles"
   ]
  },
  {
   "cell_type": "code",
   "execution_count": null,
   "id": "02d6d1ff",
   "metadata": {},
   "outputs": [],
   "source": [
    "#store the URL in the list"
   ]
  },
  {
   "cell_type": "code",
   "execution_count": 6,
   "id": "c3fe1df7",
   "metadata": {},
   "outputs": [],
   "source": [
    "urllist = []\n",
    "for i in range(2,21,1):\n",
    "    url = \"https://www.opindia.com/latest-news/page/\" + str(i) + \"/\"\n",
    "    urllist.append(url)"
   ]
  },
  {
   "cell_type": "code",
   "execution_count": 7,
   "id": "ac8ebcbc",
   "metadata": {},
   "outputs": [],
   "source": [
    "#urllist"
   ]
  },
  {
   "cell_type": "code",
   "execution_count": 8,
   "id": "11e2501f",
   "metadata": {},
   "outputs": [],
   "source": [
    "all_articles = []\n",
    "for i in urllist:\n",
    "    all_articles.extend(fetch_article(i))"
   ]
  },
  {
   "cell_type": "code",
   "execution_count": null,
   "id": "97766fcb",
   "metadata": {},
   "outputs": [],
   "source": [
    "#Tokenisation\n",
    "#Stemming\n",
    "#Lamitization"
   ]
  },
  {
   "cell_type": "code",
   "execution_count": 9,
   "id": "7fbb6daf",
   "metadata": {},
   "outputs": [],
   "source": [
    "p_art =[]\n",
    "for i in all_articles:\n",
    "    q = i.upper()\n",
    "    import re\n",
    "    q = re.sub(\"[^A-Z0-9 ]\",\"\",q)\n",
    "    from nltk.stem import PorterStemmer\n",
    "    tk_q = q.split(\" \")\n",
    "    sent = \"\"\n",
    "    for j in tk_q:\n",
    "        ps = PorterStemmer()\n",
    "        sent = sent + \" \" + ps.stem(j).upper()\n",
    "    p_art.append(sent)"
   ]
  },
  {
   "cell_type": "code",
   "execution_count": 10,
   "id": "f7acdc70",
   "metadata": {},
   "outputs": [],
   "source": [
    "from sklearn.feature_extraction.text import TfidfVectorizer\n",
    "tf = TfidfVectorizer()\n",
    "A = tf.fit_transform(p_art).toarray()"
   ]
  },
  {
   "cell_type": "code",
   "execution_count": null,
   "id": "b802a36e",
   "metadata": {},
   "outputs": [],
   "source": [
    "#By using kmeans.labels_ we will get which words belong to which cluster "
   ]
  },
  {
   "cell_type": "code",
   "execution_count": 11,
   "id": "2e6f3a57",
   "metadata": {},
   "outputs": [],
   "source": [
    "from sklearn.cluster import KMeans\n",
    "km = KMeans(n_clusters=5)\n",
    "cl_res = km.fit(A)"
   ]
  },
  {
   "cell_type": "code",
   "execution_count": 12,
   "id": "4139fb40",
   "metadata": {},
   "outputs": [
    {
     "data": {
      "text/plain": [
       "array([4, 4, 3, ..., 3, 3, 3])"
      ]
     },
     "execution_count": 12,
     "metadata": {},
     "output_type": "execute_result"
    }
   ],
   "source": [
    "cl_res.labels_"
   ]
  },
  {
   "cell_type": "code",
   "execution_count": 13,
   "id": "fc952022",
   "metadata": {},
   "outputs": [],
   "source": [
    "Q = pd.DataFrame(p_art,columns=[\"Article\"])\n",
    "Q['Cluster']=cl_res.labels_"
   ]
  },
  {
   "cell_type": "code",
   "execution_count": 14,
   "id": "2b259b98",
   "metadata": {},
   "outputs": [
    {
     "data": {
      "text/html": [
       "<div>\n",
       "<style scoped>\n",
       "    .dataframe tbody tr th:only-of-type {\n",
       "        vertical-align: middle;\n",
       "    }\n",
       "\n",
       "    .dataframe tbody tr th {\n",
       "        vertical-align: top;\n",
       "    }\n",
       "\n",
       "    .dataframe thead th {\n",
       "        text-align: right;\n",
       "    }\n",
       "</style>\n",
       "<table border=\"1\" class=\"dataframe\">\n",
       "  <thead>\n",
       "    <tr style=\"text-align: right;\">\n",
       "      <th></th>\n",
       "      <th>Article</th>\n",
       "      <th>Cluster</th>\n",
       "    </tr>\n",
       "  </thead>\n",
       "  <tbody>\n",
       "    <tr>\n",
       "      <th>0</th>\n",
       "      <td>HYDERABAD OPEN CHARMINAR MOSQU FOR NAMAZ BHAG...</td>\n",
       "      <td>4</td>\n",
       "    </tr>\n",
       "    <tr>\n",
       "      <th>1</th>\n",
       "      <td>MAHARASHTRA NCP WORKER JOIN ISLAMIST TO OUTRA...</td>\n",
       "      <td>4</td>\n",
       "    </tr>\n",
       "    <tr>\n",
       "      <th>2</th>\n",
       "      <td>DELHI HEALTH MINIST SATYENDAR JAIN SENT TO ED...</td>\n",
       "      <td>3</td>\n",
       "    </tr>\n",
       "    <tr>\n",
       "      <th>3</th>\n",
       "      <td>AAP APE CONGRESS IN INSULT PM MODI CALL HIM C...</td>\n",
       "      <td>0</td>\n",
       "    </tr>\n",
       "    <tr>\n",
       "      <th>4</th>\n",
       "      <td>IF WE KNEW THERE WA A SHIVL WE WOULD HAVE DES...</td>\n",
       "      <td>1</td>\n",
       "    </tr>\n",
       "  </tbody>\n",
       "</table>\n",
       "</div>"
      ],
      "text/plain": [
       "                                             Article  Cluster\n",
       "0   HYDERABAD OPEN CHARMINAR MOSQU FOR NAMAZ BHAG...        4\n",
       "1   MAHARASHTRA NCP WORKER JOIN ISLAMIST TO OUTRA...        4\n",
       "2   DELHI HEALTH MINIST SATYENDAR JAIN SENT TO ED...        3\n",
       "3   AAP APE CONGRESS IN INSULT PM MODI CALL HIM C...        0\n",
       "4   IF WE KNEW THERE WA A SHIVL WE WOULD HAVE DES...        1"
      ]
     },
     "execution_count": 14,
     "metadata": {},
     "output_type": "execute_result"
    }
   ],
   "source": [
    "Q.head()"
   ]
  },
  {
   "cell_type": "raw",
   "id": "c7c717ed",
   "metadata": {},
   "source": [
    "1 --> politics\n",
    "2 --> religion\n",
    "3 --> sports\n",
    "4 --> entertainment\n",
    "0 --> geopolitics"
   ]
  },
  {
   "cell_type": "code",
   "execution_count": 16,
   "id": "f5354bea",
   "metadata": {},
   "outputs": [],
   "source": [
    "E = {1 : \"politics\",\n",
    "2 : \"religion\",\n",
    "3 : \"sports\",\n",
    "4 : \"entertainment\",\n",
    "0 : \"geopolitics\"}"
   ]
  },
  {
   "cell_type": "code",
   "execution_count": 17,
   "id": "9f8973af",
   "metadata": {},
   "outputs": [],
   "source": [
    "R = []\n",
    "for i in Q.Cluster:\n",
    "    R.append(E[i])\n",
    "\n",
    "Q['category'] = R"
   ]
  },
  {
   "cell_type": "markdown",
   "id": "4d1b25d8",
   "metadata": {},
   "source": [
    "# ARTICLES FETCHED ACCORDING TO THE CLUSTERS CREATED"
   ]
  },
  {
   "cell_type": "code",
   "execution_count": 18,
   "id": "7dfc7590",
   "metadata": {},
   "outputs": [
    {
     "data": {
      "text/html": [
       "<div>\n",
       "<style scoped>\n",
       "    .dataframe tbody tr th:only-of-type {\n",
       "        vertical-align: middle;\n",
       "    }\n",
       "\n",
       "    .dataframe tbody tr th {\n",
       "        vertical-align: top;\n",
       "    }\n",
       "\n",
       "    .dataframe thead th {\n",
       "        text-align: right;\n",
       "    }\n",
       "</style>\n",
       "<table border=\"1\" class=\"dataframe\">\n",
       "  <thead>\n",
       "    <tr style=\"text-align: right;\">\n",
       "      <th></th>\n",
       "      <th>Article</th>\n",
       "      <th>Cluster</th>\n",
       "      <th>category</th>\n",
       "    </tr>\n",
       "  </thead>\n",
       "  <tbody>\n",
       "    <tr>\n",
       "      <th>0</th>\n",
       "      <td>HYDERABAD OPEN CHARMINAR MOSQU FOR NAMAZ BHAG...</td>\n",
       "      <td>4</td>\n",
       "      <td>entertainment</td>\n",
       "    </tr>\n",
       "    <tr>\n",
       "      <th>1</th>\n",
       "      <td>MAHARASHTRA NCP WORKER JOIN ISLAMIST TO OUTRA...</td>\n",
       "      <td>4</td>\n",
       "      <td>entertainment</td>\n",
       "    </tr>\n",
       "    <tr>\n",
       "      <th>2</th>\n",
       "      <td>DELHI HEALTH MINIST SATYENDAR JAIN SENT TO ED...</td>\n",
       "      <td>3</td>\n",
       "      <td>sports</td>\n",
       "    </tr>\n",
       "    <tr>\n",
       "      <th>3</th>\n",
       "      <td>AAP APE CONGRESS IN INSULT PM MODI CALL HIM C...</td>\n",
       "      <td>0</td>\n",
       "      <td>geopolitics</td>\n",
       "    </tr>\n",
       "    <tr>\n",
       "      <th>4</th>\n",
       "      <td>IF WE KNEW THERE WA A SHIVL WE WOULD HAVE DES...</td>\n",
       "      <td>1</td>\n",
       "      <td>politics</td>\n",
       "    </tr>\n",
       "    <tr>\n",
       "      <th>...</th>\n",
       "      <td>...</td>\n",
       "      <td>...</td>\n",
       "      <td>...</td>\n",
       "    </tr>\n",
       "    <tr>\n",
       "      <th>1971</th>\n",
       "      <td>IMRAN KHAN IN TROUBL OVER CORRUPT ALLEG FROM ...</td>\n",
       "      <td>3</td>\n",
       "      <td>sports</td>\n",
       "    </tr>\n",
       "    <tr>\n",
       "      <th>1972</th>\n",
       "      <td>SHAH FAESAL REINSTAT IN IA HERE IS A LOWDOWN ...</td>\n",
       "      <td>3</td>\n",
       "      <td>sports</td>\n",
       "    </tr>\n",
       "    <tr>\n",
       "      <th>1973</th>\n",
       "      <td>WE HAVE BROUGHT 150 EXMUSLIM BACK TO HINDU FA...</td>\n",
       "      <td>3</td>\n",
       "      <td>sports</td>\n",
       "    </tr>\n",
       "    <tr>\n",
       "      <th>1974</th>\n",
       "      <td>TELANGANA CM KCR SON KTR CLAIM VAT ON FUEL PR...</td>\n",
       "      <td>3</td>\n",
       "      <td>sports</td>\n",
       "    </tr>\n",
       "    <tr>\n",
       "      <th>1975</th>\n",
       "      <td>AADITYA THACKERAY PULL A RAHUL GANDHI HAIL TH...</td>\n",
       "      <td>3</td>\n",
       "      <td>sports</td>\n",
       "    </tr>\n",
       "  </tbody>\n",
       "</table>\n",
       "<p>1976 rows × 3 columns</p>\n",
       "</div>"
      ],
      "text/plain": [
       "                                                Article  Cluster  \\\n",
       "0      HYDERABAD OPEN CHARMINAR MOSQU FOR NAMAZ BHAG...        4   \n",
       "1      MAHARASHTRA NCP WORKER JOIN ISLAMIST TO OUTRA...        4   \n",
       "2      DELHI HEALTH MINIST SATYENDAR JAIN SENT TO ED...        3   \n",
       "3      AAP APE CONGRESS IN INSULT PM MODI CALL HIM C...        0   \n",
       "4      IF WE KNEW THERE WA A SHIVL WE WOULD HAVE DES...        1   \n",
       "...                                                 ...      ...   \n",
       "1971   IMRAN KHAN IN TROUBL OVER CORRUPT ALLEG FROM ...        3   \n",
       "1972   SHAH FAESAL REINSTAT IN IA HERE IS A LOWDOWN ...        3   \n",
       "1973   WE HAVE BROUGHT 150 EXMUSLIM BACK TO HINDU FA...        3   \n",
       "1974   TELANGANA CM KCR SON KTR CLAIM VAT ON FUEL PR...        3   \n",
       "1975   AADITYA THACKERAY PULL A RAHUL GANDHI HAIL TH...        3   \n",
       "\n",
       "           category  \n",
       "0     entertainment  \n",
       "1     entertainment  \n",
       "2            sports  \n",
       "3       geopolitics  \n",
       "4          politics  \n",
       "...             ...  \n",
       "1971         sports  \n",
       "1972         sports  \n",
       "1973         sports  \n",
       "1974         sports  \n",
       "1975         sports  \n",
       "\n",
       "[1976 rows x 3 columns]"
      ]
     },
     "execution_count": 18,
     "metadata": {},
     "output_type": "execute_result"
    }
   ],
   "source": [
    "Q"
   ]
  },
  {
   "cell_type": "code",
   "execution_count": null,
   "id": "b42c83ca",
   "metadata": {},
   "outputs": [],
   "source": []
  },
  {
   "cell_type": "code",
   "execution_count": null,
   "id": "60cc350d",
   "metadata": {},
   "outputs": [],
   "source": []
  }
 ],
 "metadata": {
  "kernelspec": {
   "display_name": "Python 3",
   "language": "python",
   "name": "python3"
  },
  "language_info": {
   "codemirror_mode": {
    "name": "ipython",
    "version": 3
   },
   "file_extension": ".py",
   "mimetype": "text/x-python",
   "name": "python",
   "nbconvert_exporter": "python",
   "pygments_lexer": "ipython3",
   "version": "3.8.8"
  }
 },
 "nbformat": 4,
 "nbformat_minor": 5
}
